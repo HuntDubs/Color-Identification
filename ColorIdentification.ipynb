{
  "nbformat": 4,
  "nbformat_minor": 0,
  "metadata": {
    "colab": {
      "name": "ColorIdentification.ipynb",
      "provenance": [],
      "authorship_tag": "ABX9TyPH+5NFwuNaLIUxHIO5EYSG"
    },
    "kernelspec": {
      "name": "python3",
      "display_name": "Python 3"
    },
    "language_info": {
      "name": "python"
    }
  },
  "cells": [
    {
      "cell_type": "code",
      "metadata": {
        "id": "F386U38-sjNB"
      },
      "source": [
        "from sklearn.cluster import KMeans\n",
        "import matplotlib.pyplot as plt\n",
        "import numpy as np\n",
        "import cv2\n",
        "from collections import Counter\n",
        "from skimage.color import rgb2lab, deltaE_cie76\n",
        "import os\n",
        "\n",
        "%matplotlib inline"
      ],
      "execution_count": null,
      "outputs": []
    },
    {
      "cell_type": "code",
      "metadata": {
        "colab": {
          "base_uri": "https://localhost:8080/"
        },
        "id": "8uvOwxy5tN9w",
        "outputId": "99490aab-dd94-4627-9414-cef13756ec63"
      },
      "source": [
        "path = 'sample_image.jpg'\n",
        "\n",
        "image = cv2.imread(path)\n",
        "print(\"The type of this input is {}\".format(type(image)))\n",
        "#print(\"Shape: {}\".format(image.shape))\n",
        "#plt.imshow(image)"
      ],
      "execution_count": 6,
      "outputs": [
        {
          "output_type": "stream",
          "name": "stdout",
          "text": [
            "The type of this input is <class 'NoneType'>\n"
          ]
        }
      ]
    }
  ]
}